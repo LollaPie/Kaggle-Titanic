{
 "cells": [
  {
   "cell_type": "code",
   "execution_count": 1,
   "id": "0ab8c933",
   "metadata": {
    "_cell_guid": "b1076dfc-b9ad-4769-8c92-a6c4dae69d19",
    "_uuid": "8f2839f25d086af736a60e9eeb907d3b93b6e0e5",
    "execution": {
     "iopub.execute_input": "2022-03-20T17:01:47.517844Z",
     "iopub.status.busy": "2022-03-20T17:01:47.516247Z",
     "iopub.status.idle": "2022-03-20T17:01:49.015408Z",
     "shell.execute_reply": "2022-03-20T17:01:49.015950Z",
     "shell.execute_reply.started": "2022-03-20T16:25:37.717579Z"
    },
    "papermill": {
     "duration": 1.538337,
     "end_time": "2022-03-20T17:01:49.016223",
     "exception": false,
     "start_time": "2022-03-20T17:01:47.477886",
     "status": "completed"
    },
    "tags": []
   },
   "outputs": [
    {
     "data": {
      "text/plain": [
       "' ROAD MAP\\n0. save test data as validation data\\n1. data exploration\\n2. write function to clean, prepare all features\\n3. split train data into train/test\\n4. test different models using cv\\n5. tune best model using hyper parameter\\n6. predict Y with validation data\\n'"
      ]
     },
     "execution_count": 1,
     "metadata": {},
     "output_type": "execute_result"
    }
   ],
   "source": [
    "# load packages\n",
    "\n",
    "import numpy as np\n",
    "import pandas as pd\n",
    "import re\n",
    "from matplotlib import cm\n",
    "import seaborn as sns\n",
    "\n",
    "# import models\n",
    "from sklearn.linear_model import LogisticRegression\n",
    "from sklearn.ensemble import RandomForestClassifier\n",
    "from sklearn.svm import SVC, LinearSVC, NuSVC\n",
    "from sklearn import svm\n",
    "\n",
    "# preprocessing\n",
    "from sklearn.preprocessing import LabelEncoder, StandardScaler\n",
    "\n",
    "# model / feature selecting\n",
    "from sklearn.model_selection import cross_val_score, GridSearchCV, train_test_split\n",
    "from sklearn.feature_selection import SelectPercentile, chi2\n",
    "\n",
    "''' ROAD MAP\n",
    "0. save test data as validation data\n",
    "1. data exploration\n",
    "2. write function to clean, prepare all features\n",
    "3. split train data into train/test\n",
    "4. test different models using cv\n",
    "5. tune best model using hyper parameter\n",
    "6. predict Y with validation data\n",
    "'''"
   ]
  },
  {
   "cell_type": "markdown",
   "id": "c4f308fe",
   "metadata": {
    "papermill": {
     "duration": 0.0334,
     "end_time": "2022-03-20T17:01:49.083236",
     "exception": false,
     "start_time": "2022-03-20T17:01:49.049836",
     "status": "completed"
    },
    "tags": []
   },
   "source": [
    "## 0. Read Data"
   ]
  },
  {
   "cell_type": "code",
   "execution_count": 2,
   "id": "0f85f042",
   "metadata": {
    "execution": {
     "iopub.execute_input": "2022-03-20T17:01:49.152594Z",
     "iopub.status.busy": "2022-03-20T17:01:49.151595Z",
     "iopub.status.idle": "2022-03-20T17:01:49.174151Z",
     "shell.execute_reply": "2022-03-20T17:01:49.174734Z",
     "shell.execute_reply.started": "2022-03-20T16:25:37.730862Z"
    },
    "papermill": {
     "duration": 0.059567,
     "end_time": "2022-03-20T17:01:49.174912",
     "exception": false,
     "start_time": "2022-03-20T17:01:49.115345",
     "status": "completed"
    },
    "tags": []
   },
   "outputs": [],
   "source": [
    "#  read csv files\n",
    "train_df = pd.read_csv('../input/titanic/train.csv')\n",
    "validation_df = pd.read_csv('../input/titanic/test.csv')"
   ]
  },
  {
   "cell_type": "markdown",
   "id": "547da9d1",
   "metadata": {
    "papermill": {
     "duration": 0.030311,
     "end_time": "2022-03-20T17:01:49.235024",
     "exception": false,
     "start_time": "2022-03-20T17:01:49.204713",
     "status": "completed"
    },
    "tags": []
   },
   "source": [
    "## 1. Data Exploration"
   ]
  },
  {
   "cell_type": "code",
   "execution_count": 3,
   "id": "2cb675e9",
   "metadata": {
    "execution": {
     "iopub.execute_input": "2022-03-20T17:01:49.303633Z",
     "iopub.status.busy": "2022-03-20T17:01:49.302742Z",
     "iopub.status.idle": "2022-03-20T17:01:49.323349Z",
     "shell.execute_reply": "2022-03-20T17:01:49.323875Z",
     "shell.execute_reply.started": "2022-03-20T16:25:37.763229Z"
    },
    "papermill": {
     "duration": 0.055938,
     "end_time": "2022-03-20T17:01:49.324040",
     "exception": false,
     "start_time": "2022-03-20T17:01:49.268102",
     "status": "completed"
    },
    "tags": []
   },
   "outputs": [
    {
     "name": "stdout",
     "output_type": "stream",
     "text": [
      "train_df shape: (891, 12)\n"
     ]
    },
    {
     "data": {
      "text/html": [
       "<div>\n",
       "<style scoped>\n",
       "    .dataframe tbody tr th:only-of-type {\n",
       "        vertical-align: middle;\n",
       "    }\n",
       "\n",
       "    .dataframe tbody tr th {\n",
       "        vertical-align: top;\n",
       "    }\n",
       "\n",
       "    .dataframe thead th {\n",
       "        text-align: right;\n",
       "    }\n",
       "</style>\n",
       "<table border=\"1\" class=\"dataframe\">\n",
       "  <thead>\n",
       "    <tr style=\"text-align: right;\">\n",
       "      <th></th>\n",
       "      <th>PassengerId</th>\n",
       "      <th>Survived</th>\n",
       "      <th>Pclass</th>\n",
       "      <th>Name</th>\n",
       "      <th>Sex</th>\n",
       "      <th>Age</th>\n",
       "      <th>SibSp</th>\n",
       "      <th>Parch</th>\n",
       "      <th>Ticket</th>\n",
       "      <th>Fare</th>\n",
       "      <th>Cabin</th>\n",
       "      <th>Embarked</th>\n",
       "    </tr>\n",
       "  </thead>\n",
       "  <tbody>\n",
       "    <tr>\n",
       "      <th>0</th>\n",
       "      <td>1</td>\n",
       "      <td>0</td>\n",
       "      <td>3</td>\n",
       "      <td>Braund, Mr. Owen Harris</td>\n",
       "      <td>male</td>\n",
       "      <td>22.0</td>\n",
       "      <td>1</td>\n",
       "      <td>0</td>\n",
       "      <td>A/5 21171</td>\n",
       "      <td>7.2500</td>\n",
       "      <td>NaN</td>\n",
       "      <td>S</td>\n",
       "    </tr>\n",
       "    <tr>\n",
       "      <th>1</th>\n",
       "      <td>2</td>\n",
       "      <td>1</td>\n",
       "      <td>1</td>\n",
       "      <td>Cumings, Mrs. John Bradley (Florence Briggs Th...</td>\n",
       "      <td>female</td>\n",
       "      <td>38.0</td>\n",
       "      <td>1</td>\n",
       "      <td>0</td>\n",
       "      <td>PC 17599</td>\n",
       "      <td>71.2833</td>\n",
       "      <td>C85</td>\n",
       "      <td>C</td>\n",
       "    </tr>\n",
       "    <tr>\n",
       "      <th>2</th>\n",
       "      <td>3</td>\n",
       "      <td>1</td>\n",
       "      <td>3</td>\n",
       "      <td>Heikkinen, Miss. Laina</td>\n",
       "      <td>female</td>\n",
       "      <td>26.0</td>\n",
       "      <td>0</td>\n",
       "      <td>0</td>\n",
       "      <td>STON/O2. 3101282</td>\n",
       "      <td>7.9250</td>\n",
       "      <td>NaN</td>\n",
       "      <td>S</td>\n",
       "    </tr>\n",
       "    <tr>\n",
       "      <th>3</th>\n",
       "      <td>4</td>\n",
       "      <td>1</td>\n",
       "      <td>1</td>\n",
       "      <td>Futrelle, Mrs. Jacques Heath (Lily May Peel)</td>\n",
       "      <td>female</td>\n",
       "      <td>35.0</td>\n",
       "      <td>1</td>\n",
       "      <td>0</td>\n",
       "      <td>113803</td>\n",
       "      <td>53.1000</td>\n",
       "      <td>C123</td>\n",
       "      <td>S</td>\n",
       "    </tr>\n",
       "    <tr>\n",
       "      <th>4</th>\n",
       "      <td>5</td>\n",
       "      <td>0</td>\n",
       "      <td>3</td>\n",
       "      <td>Allen, Mr. William Henry</td>\n",
       "      <td>male</td>\n",
       "      <td>35.0</td>\n",
       "      <td>0</td>\n",
       "      <td>0</td>\n",
       "      <td>373450</td>\n",
       "      <td>8.0500</td>\n",
       "      <td>NaN</td>\n",
       "      <td>S</td>\n",
       "    </tr>\n",
       "  </tbody>\n",
       "</table>\n",
       "</div>"
      ],
      "text/plain": [
       "   PassengerId  Survived  Pclass  \\\n",
       "0            1         0       3   \n",
       "1            2         1       1   \n",
       "2            3         1       3   \n",
       "3            4         1       1   \n",
       "4            5         0       3   \n",
       "\n",
       "                                                Name     Sex   Age  SibSp  \\\n",
       "0                            Braund, Mr. Owen Harris    male  22.0      1   \n",
       "1  Cumings, Mrs. John Bradley (Florence Briggs Th...  female  38.0      1   \n",
       "2                             Heikkinen, Miss. Laina  female  26.0      0   \n",
       "3       Futrelle, Mrs. Jacques Heath (Lily May Peel)  female  35.0      1   \n",
       "4                           Allen, Mr. William Henry    male  35.0      0   \n",
       "\n",
       "   Parch            Ticket     Fare Cabin Embarked  \n",
       "0      0         A/5 21171   7.2500   NaN        S  \n",
       "1      0          PC 17599  71.2833   C85        C  \n",
       "2      0  STON/O2. 3101282   7.9250   NaN        S  \n",
       "3      0            113803  53.1000  C123        S  \n",
       "4      0            373450   8.0500   NaN        S  "
      ]
     },
     "execution_count": 3,
     "metadata": {},
     "output_type": "execute_result"
    }
   ],
   "source": [
    "# get shape and head of train df\n",
    "print(f\"train_df shape: {train_df.shape}\")\n",
    "train_df.head()"
   ]
  },
  {
   "cell_type": "code",
   "execution_count": 4,
   "id": "0d712f90",
   "metadata": {
    "execution": {
     "iopub.execute_input": "2022-03-20T17:01:49.387628Z",
     "iopub.status.busy": "2022-03-20T17:01:49.386702Z",
     "iopub.status.idle": "2022-03-20T17:01:49.402662Z",
     "shell.execute_reply": "2022-03-20T17:01:49.401887Z",
     "shell.execute_reply.started": "2022-03-20T16:25:37.783599Z"
    },
    "papermill": {
     "duration": 0.048963,
     "end_time": "2022-03-20T17:01:49.402861",
     "exception": false,
     "start_time": "2022-03-20T17:01:49.353898",
     "status": "completed"
    },
    "tags": []
   },
   "outputs": [
    {
     "name": "stdout",
     "output_type": "stream",
     "text": [
      "train_df shape: (418, 11)\n"
     ]
    },
    {
     "data": {
      "text/html": [
       "<div>\n",
       "<style scoped>\n",
       "    .dataframe tbody tr th:only-of-type {\n",
       "        vertical-align: middle;\n",
       "    }\n",
       "\n",
       "    .dataframe tbody tr th {\n",
       "        vertical-align: top;\n",
       "    }\n",
       "\n",
       "    .dataframe thead th {\n",
       "        text-align: right;\n",
       "    }\n",
       "</style>\n",
       "<table border=\"1\" class=\"dataframe\">\n",
       "  <thead>\n",
       "    <tr style=\"text-align: right;\">\n",
       "      <th></th>\n",
       "      <th>PassengerId</th>\n",
       "      <th>Pclass</th>\n",
       "      <th>Name</th>\n",
       "      <th>Sex</th>\n",
       "      <th>Age</th>\n",
       "      <th>SibSp</th>\n",
       "      <th>Parch</th>\n",
       "      <th>Ticket</th>\n",
       "      <th>Fare</th>\n",
       "      <th>Cabin</th>\n",
       "      <th>Embarked</th>\n",
       "    </tr>\n",
       "  </thead>\n",
       "  <tbody>\n",
       "    <tr>\n",
       "      <th>0</th>\n",
       "      <td>892</td>\n",
       "      <td>3</td>\n",
       "      <td>Kelly, Mr. James</td>\n",
       "      <td>male</td>\n",
       "      <td>34.5</td>\n",
       "      <td>0</td>\n",
       "      <td>0</td>\n",
       "      <td>330911</td>\n",
       "      <td>7.8292</td>\n",
       "      <td>NaN</td>\n",
       "      <td>Q</td>\n",
       "    </tr>\n",
       "    <tr>\n",
       "      <th>1</th>\n",
       "      <td>893</td>\n",
       "      <td>3</td>\n",
       "      <td>Wilkes, Mrs. James (Ellen Needs)</td>\n",
       "      <td>female</td>\n",
       "      <td>47.0</td>\n",
       "      <td>1</td>\n",
       "      <td>0</td>\n",
       "      <td>363272</td>\n",
       "      <td>7.0000</td>\n",
       "      <td>NaN</td>\n",
       "      <td>S</td>\n",
       "    </tr>\n",
       "    <tr>\n",
       "      <th>2</th>\n",
       "      <td>894</td>\n",
       "      <td>2</td>\n",
       "      <td>Myles, Mr. Thomas Francis</td>\n",
       "      <td>male</td>\n",
       "      <td>62.0</td>\n",
       "      <td>0</td>\n",
       "      <td>0</td>\n",
       "      <td>240276</td>\n",
       "      <td>9.6875</td>\n",
       "      <td>NaN</td>\n",
       "      <td>Q</td>\n",
       "    </tr>\n",
       "    <tr>\n",
       "      <th>3</th>\n",
       "      <td>895</td>\n",
       "      <td>3</td>\n",
       "      <td>Wirz, Mr. Albert</td>\n",
       "      <td>male</td>\n",
       "      <td>27.0</td>\n",
       "      <td>0</td>\n",
       "      <td>0</td>\n",
       "      <td>315154</td>\n",
       "      <td>8.6625</td>\n",
       "      <td>NaN</td>\n",
       "      <td>S</td>\n",
       "    </tr>\n",
       "    <tr>\n",
       "      <th>4</th>\n",
       "      <td>896</td>\n",
       "      <td>3</td>\n",
       "      <td>Hirvonen, Mrs. Alexander (Helga E Lindqvist)</td>\n",
       "      <td>female</td>\n",
       "      <td>22.0</td>\n",
       "      <td>1</td>\n",
       "      <td>1</td>\n",
       "      <td>3101298</td>\n",
       "      <td>12.2875</td>\n",
       "      <td>NaN</td>\n",
       "      <td>S</td>\n",
       "    </tr>\n",
       "  </tbody>\n",
       "</table>\n",
       "</div>"
      ],
      "text/plain": [
       "   PassengerId  Pclass                                          Name     Sex  \\\n",
       "0          892       3                              Kelly, Mr. James    male   \n",
       "1          893       3              Wilkes, Mrs. James (Ellen Needs)  female   \n",
       "2          894       2                     Myles, Mr. Thomas Francis    male   \n",
       "3          895       3                              Wirz, Mr. Albert    male   \n",
       "4          896       3  Hirvonen, Mrs. Alexander (Helga E Lindqvist)  female   \n",
       "\n",
       "    Age  SibSp  Parch   Ticket     Fare Cabin Embarked  \n",
       "0  34.5      0      0   330911   7.8292   NaN        Q  \n",
       "1  47.0      1      0   363272   7.0000   NaN        S  \n",
       "2  62.0      0      0   240276   9.6875   NaN        Q  \n",
       "3  27.0      0      0   315154   8.6625   NaN        S  \n",
       "4  22.0      1      1  3101298  12.2875   NaN        S  "
      ]
     },
     "execution_count": 4,
     "metadata": {},
     "output_type": "execute_result"
    }
   ],
   "source": [
    "# get shape and head of test df\n",
    "print(f\"train_df shape: {validation_df.shape}\")\n",
    "validation_df.head()"
   ]
  },
  {
   "cell_type": "code",
   "execution_count": 5,
   "id": "c472601e",
   "metadata": {
    "execution": {
     "iopub.execute_input": "2022-03-20T17:01:49.472091Z",
     "iopub.status.busy": "2022-03-20T17:01:49.471169Z",
     "iopub.status.idle": "2022-03-20T17:01:49.480619Z",
     "shell.execute_reply": "2022-03-20T17:01:49.480074Z",
     "shell.execute_reply.started": "2022-03-20T16:25:37.813309Z"
    },
    "papermill": {
     "duration": 0.044745,
     "end_time": "2022-03-20T17:01:49.480760",
     "exception": false,
     "start_time": "2022-03-20T17:01:49.436015",
     "status": "completed"
    },
    "tags": []
   },
   "outputs": [
    {
     "name": "stdout",
     "output_type": "stream",
     "text": [
      "Proportion of survived passengers: 38.38%\n"
     ]
    }
   ],
   "source": [
    "# get proportion of survived passengers (train)\n",
    "print(f\"Proportion of survived passengers: {len(train_df.Survived[train_df.Survived==1]) / len(train_df.Survived)*100:.4}%\")"
   ]
  },
  {
   "cell_type": "code",
   "execution_count": 6,
   "id": "3b136b79",
   "metadata": {
    "execution": {
     "iopub.execute_input": "2022-03-20T17:01:49.550669Z",
     "iopub.status.busy": "2022-03-20T17:01:49.550060Z",
     "iopub.status.idle": "2022-03-20T17:01:49.557137Z",
     "shell.execute_reply": "2022-03-20T17:01:49.556665Z",
     "shell.execute_reply.started": "2022-03-20T16:25:37.821245Z"
    },
    "papermill": {
     "duration": 0.043641,
     "end_time": "2022-03-20T17:01:49.557267",
     "exception": false,
     "start_time": "2022-03-20T17:01:49.513626",
     "status": "completed"
    },
    "tags": []
   },
   "outputs": [
    {
     "data": {
      "text/plain": [
       "PassengerId      0\n",
       "Survived         0\n",
       "Pclass           0\n",
       "Name             0\n",
       "Sex              0\n",
       "Age            177\n",
       "SibSp            0\n",
       "Parch            0\n",
       "Ticket           0\n",
       "Fare             0\n",
       "Cabin          687\n",
       "Embarked         2\n",
       "dtype: int64"
      ]
     },
     "execution_count": 6,
     "metadata": {},
     "output_type": "execute_result"
    }
   ],
   "source": [
    "# count NaNs in train df\n",
    "train_df.isna().sum()"
   ]
  },
  {
   "cell_type": "code",
   "execution_count": 7,
   "id": "b96b2bde",
   "metadata": {
    "execution": {
     "iopub.execute_input": "2022-03-20T17:01:49.628952Z",
     "iopub.status.busy": "2022-03-20T17:01:49.628264Z",
     "iopub.status.idle": "2022-03-20T17:01:49.631646Z",
     "shell.execute_reply": "2022-03-20T17:01:49.632317Z",
     "shell.execute_reply.started": "2022-03-20T16:25:37.845221Z"
    },
    "papermill": {
     "duration": 0.043527,
     "end_time": "2022-03-20T17:01:49.632567",
     "exception": false,
     "start_time": "2022-03-20T17:01:49.589040",
     "status": "completed"
    },
    "tags": []
   },
   "outputs": [
    {
     "name": "stdout",
     "output_type": "stream",
     "text": [
      "Number of unique tickets: 681\n"
     ]
    }
   ],
   "source": [
    "# get number of unique ticket numbers\n",
    "print(f\"Number of unique tickets: {len(train_df.Ticket.unique())}\")"
   ]
  },
  {
   "cell_type": "code",
   "execution_count": 8,
   "id": "7d7f03d3",
   "metadata": {
    "execution": {
     "iopub.execute_input": "2022-03-20T17:01:49.705978Z",
     "iopub.status.busy": "2022-03-20T17:01:49.705104Z",
     "iopub.status.idle": "2022-03-20T17:01:49.711195Z",
     "shell.execute_reply": "2022-03-20T17:01:49.712014Z",
     "shell.execute_reply.started": "2022-03-20T16:25:37.855628Z"
    },
    "papermill": {
     "duration": 0.043507,
     "end_time": "2022-03-20T17:01:49.712311",
     "exception": false,
     "start_time": "2022-03-20T17:01:49.668804",
     "status": "completed"
    },
    "tags": []
   },
   "outputs": [
    {
     "name": "stdout",
     "output_type": "stream",
     "text": [
      "Number of unique cabins: 148\n"
     ]
    }
   ],
   "source": [
    "# get number of unique cabins\n",
    "print(f\"Number of unique cabins: {len(train_df.Cabin.unique())}\")"
   ]
  },
  {
   "cell_type": "markdown",
   "id": "a200325e",
   "metadata": {
    "papermill": {
     "duration": 0.032267,
     "end_time": "2022-03-20T17:01:49.779993",
     "exception": false,
     "start_time": "2022-03-20T17:01:49.747726",
     "status": "completed"
    },
    "tags": []
   },
   "source": [
    "## 2.1 Data Cleaning and Feature Engineering"
   ]
  },
  {
   "cell_type": "code",
   "execution_count": 9,
   "id": "2c9d126b",
   "metadata": {
    "execution": {
     "iopub.execute_input": "2022-03-20T17:01:49.852942Z",
     "iopub.status.busy": "2022-03-20T17:01:49.852259Z",
     "iopub.status.idle": "2022-03-20T17:01:49.862487Z",
     "shell.execute_reply": "2022-03-20T17:01:49.863034Z",
     "shell.execute_reply.started": "2022-03-20T16:25:37.868185Z"
    },
    "papermill": {
     "duration": 0.04921,
     "end_time": "2022-03-20T17:01:49.863244",
     "exception": false,
     "start_time": "2022-03-20T17:01:49.814034",
     "status": "completed"
    },
    "tags": []
   },
   "outputs": [],
   "source": [
    "def data_cleaning(x):\n",
    "    '''\n",
    "    INPUT\n",
    "    x - pandas data frame\n",
    "    \n",
    "    OUTPUT\n",
    "    None\n",
    "    \n",
    "    This function cleans data frame and prepares feature for modeling.\n",
    "    '''\n",
    "    \n",
    "    # replace NaN ages with mean age\n",
    "    x.Age.fillna(x.Age.mean(), inplace=True)\n",
    "    \n",
    "    # replace NaN cabin and embarked with 0\n",
    "    # cabin remains as string\n",
    "    x.Embarked.fillna(0, inplace=True)\n",
    "    x.Cabin.fillna('0', inplace=True)\n",
    "    \n",
    "    ''' Feature Engineering '''\n",
    "    \n",
    "    # create dummies for sex, drop first=True\n",
    "    x['Male'] = pd.get_dummies(x.Sex, drop_first=True)\n",
    "\n",
    "    # get only digits of tickets\n",
    "    ticket_list = []\n",
    "    for txt in x.Ticket:\n",
    "        tlist = [int(s) for s in txt.split() if s.isdigit()]\n",
    "        if len(tlist) > 0:\n",
    "            ticket_list.append(tlist[0])\n",
    "        else:\n",
    "            ticket_list.append(0)\n",
    "    x['Ticket_num'] = ticket_list\n",
    "      \n",
    "    # extract characters from Cabin as new feature\n",
    "    Cabin_char = x.Cabin.str.extract(pat=\"([A-Z])\", expand=False)\n",
    "    # label encode 'Cabin_char'\n",
    "    le = LabelEncoder()\n",
    "    Cabin_encode = le.fit_transform(Cabin_char)\n",
    "    # add encoded chars as new column\n",
    "    x['Cabin_C'] = Cabin_encode\n",
    "    \n",
    "    # extract digits from Cabin\n",
    "    cabin_digits = x.Cabin.str.extract(pat=\"(\\d+)\", expand=False)\n",
    "    # fill Nan with 0\n",
    "    cabin_digits.fillna(0, inplace=True)\n",
    "    # convert to integer as new column\n",
    "    x['Cabin_digit'] = pd.to_numeric(cabin_digits, downcast='integer')\n",
    "    \n",
    "    # creat dummies for Embarked, drop first=True\n",
    "    x = pd.concat([x, pd.get_dummies(x.Embarked, drop_first=True, prefix='Emb')], axis=1)\n",
    "    \n",
    "    # drop unnecessary columns\n",
    "    x.drop(['Name', 'Sex', 'Ticket', 'Embarked', 'Cabin'], axis=1, inplace=True)\n",
    "    \n",
    "    return x"
   ]
  },
  {
   "cell_type": "code",
   "execution_count": 10,
   "id": "7f9a7d3e",
   "metadata": {
    "execution": {
     "iopub.execute_input": "2022-03-20T17:01:49.939592Z",
     "iopub.status.busy": "2022-03-20T17:01:49.935283Z",
     "iopub.status.idle": "2022-03-20T17:01:49.970343Z",
     "shell.execute_reply": "2022-03-20T17:01:49.969818Z",
     "shell.execute_reply.started": "2022-03-20T16:25:37.885882Z"
    },
    "papermill": {
     "duration": 0.072329,
     "end_time": "2022-03-20T17:01:49.970520",
     "exception": false,
     "start_time": "2022-03-20T17:01:49.898191",
     "status": "completed"
    },
    "tags": []
   },
   "outputs": [
    {
     "data": {
      "text/html": [
       "<div>\n",
       "<style scoped>\n",
       "    .dataframe tbody tr th:only-of-type {\n",
       "        vertical-align: middle;\n",
       "    }\n",
       "\n",
       "    .dataframe tbody tr th {\n",
       "        vertical-align: top;\n",
       "    }\n",
       "\n",
       "    .dataframe thead th {\n",
       "        text-align: right;\n",
       "    }\n",
       "</style>\n",
       "<table border=\"1\" class=\"dataframe\">\n",
       "  <thead>\n",
       "    <tr style=\"text-align: right;\">\n",
       "      <th></th>\n",
       "      <th>PassengerId</th>\n",
       "      <th>Survived</th>\n",
       "      <th>Pclass</th>\n",
       "      <th>Age</th>\n",
       "      <th>SibSp</th>\n",
       "      <th>Parch</th>\n",
       "      <th>Fare</th>\n",
       "      <th>Male</th>\n",
       "      <th>Ticket_num</th>\n",
       "      <th>Cabin_C</th>\n",
       "      <th>Cabin_digit</th>\n",
       "      <th>Emb_C</th>\n",
       "      <th>Emb_Q</th>\n",
       "      <th>Emb_S</th>\n",
       "    </tr>\n",
       "  </thead>\n",
       "  <tbody>\n",
       "    <tr>\n",
       "      <th>0</th>\n",
       "      <td>1</td>\n",
       "      <td>0</td>\n",
       "      <td>3</td>\n",
       "      <td>22.0</td>\n",
       "      <td>1</td>\n",
       "      <td>0</td>\n",
       "      <td>7.2500</td>\n",
       "      <td>1</td>\n",
       "      <td>21171</td>\n",
       "      <td>8</td>\n",
       "      <td>0</td>\n",
       "      <td>0</td>\n",
       "      <td>0</td>\n",
       "      <td>1</td>\n",
       "    </tr>\n",
       "    <tr>\n",
       "      <th>1</th>\n",
       "      <td>2</td>\n",
       "      <td>1</td>\n",
       "      <td>1</td>\n",
       "      <td>38.0</td>\n",
       "      <td>1</td>\n",
       "      <td>0</td>\n",
       "      <td>71.2833</td>\n",
       "      <td>0</td>\n",
       "      <td>17599</td>\n",
       "      <td>2</td>\n",
       "      <td>85</td>\n",
       "      <td>1</td>\n",
       "      <td>0</td>\n",
       "      <td>0</td>\n",
       "    </tr>\n",
       "    <tr>\n",
       "      <th>2</th>\n",
       "      <td>3</td>\n",
       "      <td>1</td>\n",
       "      <td>3</td>\n",
       "      <td>26.0</td>\n",
       "      <td>0</td>\n",
       "      <td>0</td>\n",
       "      <td>7.9250</td>\n",
       "      <td>0</td>\n",
       "      <td>3101282</td>\n",
       "      <td>8</td>\n",
       "      <td>0</td>\n",
       "      <td>0</td>\n",
       "      <td>0</td>\n",
       "      <td>1</td>\n",
       "    </tr>\n",
       "    <tr>\n",
       "      <th>3</th>\n",
       "      <td>4</td>\n",
       "      <td>1</td>\n",
       "      <td>1</td>\n",
       "      <td>35.0</td>\n",
       "      <td>1</td>\n",
       "      <td>0</td>\n",
       "      <td>53.1000</td>\n",
       "      <td>0</td>\n",
       "      <td>113803</td>\n",
       "      <td>2</td>\n",
       "      <td>123</td>\n",
       "      <td>0</td>\n",
       "      <td>0</td>\n",
       "      <td>1</td>\n",
       "    </tr>\n",
       "    <tr>\n",
       "      <th>4</th>\n",
       "      <td>5</td>\n",
       "      <td>0</td>\n",
       "      <td>3</td>\n",
       "      <td>35.0</td>\n",
       "      <td>0</td>\n",
       "      <td>0</td>\n",
       "      <td>8.0500</td>\n",
       "      <td>1</td>\n",
       "      <td>373450</td>\n",
       "      <td>8</td>\n",
       "      <td>0</td>\n",
       "      <td>0</td>\n",
       "      <td>0</td>\n",
       "      <td>1</td>\n",
       "    </tr>\n",
       "  </tbody>\n",
       "</table>\n",
       "</div>"
      ],
      "text/plain": [
       "   PassengerId  Survived  Pclass   Age  SibSp  Parch     Fare  Male  \\\n",
       "0            1         0       3  22.0      1      0   7.2500     1   \n",
       "1            2         1       1  38.0      1      0  71.2833     0   \n",
       "2            3         1       3  26.0      0      0   7.9250     0   \n",
       "3            4         1       1  35.0      1      0  53.1000     0   \n",
       "4            5         0       3  35.0      0      0   8.0500     1   \n",
       "\n",
       "   Ticket_num  Cabin_C  Cabin_digit  Emb_C  Emb_Q  Emb_S  \n",
       "0       21171        8            0      0      0      1  \n",
       "1       17599        2           85      1      0      0  \n",
       "2     3101282        8            0      0      0      1  \n",
       "3      113803        2          123      0      0      1  \n",
       "4      373450        8            0      0      0      1  "
      ]
     },
     "execution_count": 10,
     "metadata": {},
     "output_type": "execute_result"
    }
   ],
   "source": [
    "# create new df for train data\n",
    "clean_train_df = train_df.copy()\n",
    "\n",
    "# clean and feature engineering\n",
    "clean_train_df = data_cleaning(clean_train_df)\n",
    "\n",
    "# show cleaned df\n",
    "clean_train_df.head()"
   ]
  },
  {
   "cell_type": "code",
   "execution_count": 11,
   "id": "2731ebe6",
   "metadata": {
    "execution": {
     "iopub.execute_input": "2022-03-20T17:01:50.052715Z",
     "iopub.status.busy": "2022-03-20T17:01:50.043849Z",
     "iopub.status.idle": "2022-03-20T17:01:50.071907Z",
     "shell.execute_reply": "2022-03-20T17:01:50.072360Z",
     "shell.execute_reply.started": "2022-03-20T16:40:26.444090Z"
    },
    "papermill": {
     "duration": 0.066682,
     "end_time": "2022-03-20T17:01:50.072551",
     "exception": false,
     "start_time": "2022-03-20T17:01:50.005869",
     "status": "completed"
    },
    "tags": []
   },
   "outputs": [
    {
     "data": {
      "text/html": [
       "<div>\n",
       "<style scoped>\n",
       "    .dataframe tbody tr th:only-of-type {\n",
       "        vertical-align: middle;\n",
       "    }\n",
       "\n",
       "    .dataframe tbody tr th {\n",
       "        vertical-align: top;\n",
       "    }\n",
       "\n",
       "    .dataframe thead th {\n",
       "        text-align: right;\n",
       "    }\n",
       "</style>\n",
       "<table border=\"1\" class=\"dataframe\">\n",
       "  <thead>\n",
       "    <tr style=\"text-align: right;\">\n",
       "      <th></th>\n",
       "      <th>PassengerId</th>\n",
       "      <th>Pclass</th>\n",
       "      <th>Age</th>\n",
       "      <th>SibSp</th>\n",
       "      <th>Parch</th>\n",
       "      <th>Fare</th>\n",
       "      <th>Male</th>\n",
       "      <th>Ticket_num</th>\n",
       "      <th>Cabin_C</th>\n",
       "      <th>Cabin_digit</th>\n",
       "      <th>Emb_C</th>\n",
       "      <th>Emb_Q</th>\n",
       "      <th>Emb_S</th>\n",
       "    </tr>\n",
       "  </thead>\n",
       "  <tbody>\n",
       "    <tr>\n",
       "      <th>0</th>\n",
       "      <td>892</td>\n",
       "      <td>3</td>\n",
       "      <td>34.5</td>\n",
       "      <td>0</td>\n",
       "      <td>0</td>\n",
       "      <td>7.8292</td>\n",
       "      <td>1</td>\n",
       "      <td>330911</td>\n",
       "      <td>7</td>\n",
       "      <td>0</td>\n",
       "      <td>0</td>\n",
       "      <td>1</td>\n",
       "      <td>0</td>\n",
       "    </tr>\n",
       "    <tr>\n",
       "      <th>1</th>\n",
       "      <td>893</td>\n",
       "      <td>3</td>\n",
       "      <td>47.0</td>\n",
       "      <td>1</td>\n",
       "      <td>0</td>\n",
       "      <td>7.0000</td>\n",
       "      <td>0</td>\n",
       "      <td>363272</td>\n",
       "      <td>7</td>\n",
       "      <td>0</td>\n",
       "      <td>0</td>\n",
       "      <td>0</td>\n",
       "      <td>1</td>\n",
       "    </tr>\n",
       "    <tr>\n",
       "      <th>2</th>\n",
       "      <td>894</td>\n",
       "      <td>2</td>\n",
       "      <td>62.0</td>\n",
       "      <td>0</td>\n",
       "      <td>0</td>\n",
       "      <td>9.6875</td>\n",
       "      <td>1</td>\n",
       "      <td>240276</td>\n",
       "      <td>7</td>\n",
       "      <td>0</td>\n",
       "      <td>0</td>\n",
       "      <td>1</td>\n",
       "      <td>0</td>\n",
       "    </tr>\n",
       "    <tr>\n",
       "      <th>3</th>\n",
       "      <td>895</td>\n",
       "      <td>3</td>\n",
       "      <td>27.0</td>\n",
       "      <td>0</td>\n",
       "      <td>0</td>\n",
       "      <td>8.6625</td>\n",
       "      <td>1</td>\n",
       "      <td>315154</td>\n",
       "      <td>7</td>\n",
       "      <td>0</td>\n",
       "      <td>0</td>\n",
       "      <td>0</td>\n",
       "      <td>1</td>\n",
       "    </tr>\n",
       "    <tr>\n",
       "      <th>4</th>\n",
       "      <td>896</td>\n",
       "      <td>3</td>\n",
       "      <td>22.0</td>\n",
       "      <td>1</td>\n",
       "      <td>1</td>\n",
       "      <td>12.2875</td>\n",
       "      <td>0</td>\n",
       "      <td>3101298</td>\n",
       "      <td>7</td>\n",
       "      <td>0</td>\n",
       "      <td>0</td>\n",
       "      <td>0</td>\n",
       "      <td>1</td>\n",
       "    </tr>\n",
       "  </tbody>\n",
       "</table>\n",
       "</div>"
      ],
      "text/plain": [
       "   PassengerId  Pclass   Age  SibSp  Parch     Fare  Male  Ticket_num  \\\n",
       "0          892       3  34.5      0      0   7.8292     1      330911   \n",
       "1          893       3  47.0      1      0   7.0000     0      363272   \n",
       "2          894       2  62.0      0      0   9.6875     1      240276   \n",
       "3          895       3  27.0      0      0   8.6625     1      315154   \n",
       "4          896       3  22.0      1      1  12.2875     0     3101298   \n",
       "\n",
       "   Cabin_C  Cabin_digit  Emb_C  Emb_Q  Emb_S  \n",
       "0        7            0      0      1      0  \n",
       "1        7            0      0      0      1  \n",
       "2        7            0      0      1      0  \n",
       "3        7            0      0      0      1  \n",
       "4        7            0      0      0      1  "
      ]
     },
     "execution_count": 11,
     "metadata": {},
     "output_type": "execute_result"
    }
   ],
   "source": [
    "# create new df for validation data\n",
    "clean_val_df = validation_df.copy()\n",
    "\n",
    "# clean and feature engineering\n",
    "clean_val_df = data_cleaning(clean_val_df)\n",
    "\n",
    "# insert Emb_C column\n",
    "clean_val_df.insert(10, 'Emb_C', 0)\n",
    "\n",
    "# show cleaned df\n",
    "clean_val_df.head()"
   ]
  },
  {
   "cell_type": "code",
   "execution_count": 12,
   "id": "7261ce13",
   "metadata": {
    "execution": {
     "iopub.execute_input": "2022-03-20T17:01:50.146038Z",
     "iopub.status.busy": "2022-03-20T17:01:50.145061Z",
     "iopub.status.idle": "2022-03-20T17:01:50.148502Z",
     "shell.execute_reply": "2022-03-20T17:01:50.149074Z",
     "shell.execute_reply.started": "2022-03-20T16:25:37.959740Z"
    },
    "papermill": {
     "duration": 0.043626,
     "end_time": "2022-03-20T17:01:50.149249",
     "exception": false,
     "start_time": "2022-03-20T17:01:50.105623",
     "status": "completed"
    },
    "tags": []
   },
   "outputs": [
    {
     "data": {
      "text/plain": [
       "Index(['PassengerId', 'Survived', 'Pclass', 'Age', 'SibSp', 'Parch', 'Fare',\n",
       "       'Male', 'Ticket_num', 'Cabin_C', 'Cabin_digit', 'Emb_C', 'Emb_Q',\n",
       "       'Emb_S'],\n",
       "      dtype='object')"
      ]
     },
     "execution_count": 12,
     "metadata": {},
     "output_type": "execute_result"
    }
   ],
   "source": [
    "clean_train_df.columns"
   ]
  },
  {
   "cell_type": "code",
   "execution_count": 13,
   "id": "ca6f3cd8",
   "metadata": {
    "execution": {
     "iopub.execute_input": "2022-03-20T17:01:50.224505Z",
     "iopub.status.busy": "2022-03-20T17:01:50.223852Z",
     "iopub.status.idle": "2022-03-20T17:01:50.226293Z",
     "shell.execute_reply": "2022-03-20T17:01:50.227084Z",
     "shell.execute_reply.started": "2022-03-20T16:25:37.967266Z"
    },
    "papermill": {
     "duration": 0.041977,
     "end_time": "2022-03-20T17:01:50.227285",
     "exception": false,
     "start_time": "2022-03-20T17:01:50.185308",
     "status": "completed"
    },
    "tags": []
   },
   "outputs": [],
   "source": [
    "# plot some Features as pair plot\n",
    "# sns.pairplot(clean_train_df[['Survived', 'Pclass', 'Age', 'SibSp', 'Parch', 'Fare', 'Cabin_C', 'Cabin_digit']], hue=\"Survived\")"
   ]
  },
  {
   "cell_type": "markdown",
   "id": "e985ad53",
   "metadata": {
    "papermill": {
     "duration": 0.035037,
     "end_time": "2022-03-20T17:01:50.299520",
     "exception": false,
     "start_time": "2022-03-20T17:01:50.264483",
     "status": "completed"
    },
    "tags": []
   },
   "source": [
    "## 2.2 Feature Reduction"
   ]
  },
  {
   "cell_type": "code",
   "execution_count": 14,
   "id": "e066da33",
   "metadata": {
    "execution": {
     "iopub.execute_input": "2022-03-20T17:01:50.379907Z",
     "iopub.status.busy": "2022-03-20T17:01:50.378929Z",
     "iopub.status.idle": "2022-03-20T17:01:50.395614Z",
     "shell.execute_reply": "2022-03-20T17:01:50.395091Z",
     "shell.execute_reply.started": "2022-03-20T16:25:37.981186Z"
    },
    "papermill": {
     "duration": 0.060253,
     "end_time": "2022-03-20T17:01:50.395757",
     "exception": false,
     "start_time": "2022-03-20T17:01:50.335504",
     "status": "completed"
    },
    "tags": []
   },
   "outputs": [
    {
     "name": "stdout",
     "output_type": "stream",
     "text": [
      "X shape before feature selection: (891, 12)\n",
      "X shape after feature selection: (891, 8)\n"
     ]
    }
   ],
   "source": [
    "X = clean_train_df.drop(['PassengerId', 'Survived'], axis=1)\n",
    "y = clean_train_df.Survived\n",
    "\n",
    "print(f\"X shape before feature selection: {X.shape}\")\n",
    "\n",
    "# feature selection: chi2 test, keep best 70%\n",
    "sel = SelectPercentile(chi2, percentile=70)\n",
    "X = sel.fit_transform(X, y)\n",
    "\n",
    "print(f\"X shape after feature selection: {X.shape}\")"
   ]
  },
  {
   "cell_type": "markdown",
   "id": "1659548d",
   "metadata": {
    "papermill": {
     "duration": 0.035585,
     "end_time": "2022-03-20T17:01:50.466772",
     "exception": false,
     "start_time": "2022-03-20T17:01:50.431187",
     "status": "completed"
    },
    "tags": []
   },
   "source": [
    "## 3. Split Train Data"
   ]
  },
  {
   "cell_type": "code",
   "execution_count": 15,
   "id": "0f3b9b4f",
   "metadata": {
    "execution": {
     "iopub.execute_input": "2022-03-20T17:01:50.543650Z",
     "iopub.status.busy": "2022-03-20T17:01:50.542672Z",
     "iopub.status.idle": "2022-03-20T17:01:50.548039Z",
     "shell.execute_reply": "2022-03-20T17:01:50.548666Z",
     "shell.execute_reply.started": "2022-03-20T16:25:38.004226Z"
    },
    "papermill": {
     "duration": 0.046088,
     "end_time": "2022-03-20T17:01:50.548846",
     "exception": false,
     "start_time": "2022-03-20T17:01:50.502758",
     "status": "completed"
    },
    "tags": []
   },
   "outputs": [],
   "source": [
    "X_train, X_test, y_train, y_test = train_test_split(X, y, test_size=0.3)"
   ]
  },
  {
   "cell_type": "markdown",
   "id": "28cb08bd",
   "metadata": {
    "papermill": {
     "duration": 0.035259,
     "end_time": "2022-03-20T17:01:50.619789",
     "exception": false,
     "start_time": "2022-03-20T17:01:50.584530",
     "status": "completed"
    },
    "tags": []
   },
   "source": [
    "## 4. Testing Different Models on all Train Data"
   ]
  },
  {
   "cell_type": "code",
   "execution_count": 16,
   "id": "40a9f92c",
   "metadata": {
    "execution": {
     "iopub.execute_input": "2022-03-20T17:01:50.694816Z",
     "iopub.status.busy": "2022-03-20T17:01:50.693848Z",
     "iopub.status.idle": "2022-03-20T17:01:50.756145Z",
     "shell.execute_reply": "2022-03-20T17:01:50.756726Z",
     "shell.execute_reply.started": "2022-03-20T16:25:38.014682Z"
    },
    "papermill": {
     "duration": 0.100682,
     "end_time": "2022-03-20T17:01:50.756913",
     "exception": false,
     "start_time": "2022-03-20T17:01:50.656231",
     "status": "completed"
    },
    "tags": []
   },
   "outputs": [
    {
     "data": {
      "text/plain": [
       "0.6296277697570772"
      ]
     },
     "execution_count": 16,
     "metadata": {},
     "output_type": "execute_result"
    }
   ],
   "source": [
    "# logistic Regression\n",
    "clf = LogisticRegression(random_state=42)\n",
    "scores = cross_val_score(clf, X, y, cv=5)\n",
    "scores.mean()"
   ]
  },
  {
   "cell_type": "code",
   "execution_count": 17,
   "id": "edfdc851",
   "metadata": {
    "execution": {
     "iopub.execute_input": "2022-03-20T17:01:50.829400Z",
     "iopub.status.busy": "2022-03-20T17:01:50.828808Z",
     "iopub.status.idle": "2022-03-20T17:01:51.721751Z",
     "shell.execute_reply": "2022-03-20T17:01:51.721216Z",
     "shell.execute_reply.started": "2022-03-20T16:25:38.092553Z"
    },
    "papermill": {
     "duration": 0.929849,
     "end_time": "2022-03-20T17:01:51.721896",
     "exception": false,
     "start_time": "2022-03-20T17:01:50.792047",
     "status": "completed"
    },
    "tags": []
   },
   "outputs": [
    {
     "data": {
      "text/plain": [
       "0.8350386039796623"
      ]
     },
     "execution_count": 17,
     "metadata": {},
     "output_type": "execute_result"
    }
   ],
   "source": [
    "# Random Forest\n",
    "clf = RandomForestClassifier(random_state=42)\n",
    "scores = cross_val_score(clf, X, y, cv=5)\n",
    "scores.mean()"
   ]
  },
  {
   "cell_type": "code",
   "execution_count": 18,
   "id": "5ca10e12",
   "metadata": {
    "execution": {
     "iopub.execute_input": "2022-03-20T17:01:51.796364Z",
     "iopub.status.busy": "2022-03-20T17:01:51.795743Z",
     "iopub.status.idle": "2022-03-20T17:01:51.906887Z",
     "shell.execute_reply": "2022-03-20T17:01:51.906141Z",
     "shell.execute_reply.started": "2022-03-20T16:25:39.283586Z"
    },
    "papermill": {
     "duration": 0.150933,
     "end_time": "2022-03-20T17:01:51.907062",
     "exception": false,
     "start_time": "2022-03-20T17:01:51.756129",
     "status": "completed"
    },
    "tags": []
   },
   "outputs": [
    {
     "data": {
      "text/plain": [
       "0.7879229175820727"
      ]
     },
     "execution_count": 18,
     "metadata": {},
     "output_type": "execute_result"
    }
   ],
   "source": [
    "# SVC with Standard Scaler\n",
    "scaler = StandardScaler()\n",
    "clf = SVC(random_state=42)\n",
    "scores = cross_val_score(clf, scaler.fit_transform(X), y, cv=5)\n",
    "scores.mean()"
   ]
  },
  {
   "cell_type": "code",
   "execution_count": 19,
   "id": "245d0094",
   "metadata": {
    "execution": {
     "iopub.execute_input": "2022-03-20T17:01:51.985241Z",
     "iopub.status.busy": "2022-03-20T17:01:51.984527Z",
     "iopub.status.idle": "2022-03-20T17:01:52.108993Z",
     "shell.execute_reply": "2022-03-20T17:01:52.108254Z",
     "shell.execute_reply.started": "2022-03-20T16:25:39.402052Z"
    },
    "papermill": {
     "duration": 0.166571,
     "end_time": "2022-03-20T17:01:52.109148",
     "exception": false,
     "start_time": "2022-03-20T17:01:51.942577",
     "status": "completed"
    },
    "tags": []
   },
   "outputs": [
    {
     "data": {
      "text/plain": [
       "0.7980227229929069"
      ]
     },
     "execution_count": 19,
     "metadata": {},
     "output_type": "execute_result"
    }
   ],
   "source": [
    "# NuSVC with StandardScaler\n",
    "scaler = StandardScaler()\n",
    "clf = NuSVC(gamma='scale', kernel='poly', random_state=42)\n",
    "scores = cross_val_score(clf, scaler.fit_transform(X), y, cv=5)\n",
    "scores.mean()"
   ]
  },
  {
   "cell_type": "code",
   "execution_count": 20,
   "id": "7bd1cbe3",
   "metadata": {
    "execution": {
     "iopub.execute_input": "2022-03-20T17:01:52.187020Z",
     "iopub.status.busy": "2022-03-20T17:01:52.186346Z",
     "iopub.status.idle": "2022-03-20T17:01:52.583115Z",
     "shell.execute_reply": "2022-03-20T17:01:52.582364Z",
     "shell.execute_reply.started": "2022-03-20T16:25:39.531232Z"
    },
    "papermill": {
     "duration": 0.438222,
     "end_time": "2022-03-20T17:01:52.583268",
     "exception": false,
     "start_time": "2022-03-20T17:01:52.145046",
     "status": "completed"
    },
    "tags": []
   },
   "outputs": [
    {
     "data": {
      "text/plain": [
       "0.7788839369782186"
      ]
     },
     "execution_count": 20,
     "metadata": {},
     "output_type": "execute_result"
    }
   ],
   "source": [
    "# Linear SVC with StandardScaler\n",
    "scaler = StandardScaler()\n",
    "clf = LinearSVC(max_iter=100_000)\n",
    "scores = cross_val_score(clf, scaler.fit_transform(X), y, cv=5)\n",
    "scores.mean()"
   ]
  },
  {
   "cell_type": "markdown",
   "id": "a95af9c0",
   "metadata": {
    "papermill": {
     "duration": 0.034925,
     "end_time": "2022-03-20T17:01:52.653566",
     "exception": false,
     "start_time": "2022-03-20T17:01:52.618641",
     "status": "completed"
    },
    "tags": []
   },
   "source": [
    "### 4.2 Neuronal Networks"
   ]
  },
  {
   "cell_type": "code",
   "execution_count": 21,
   "id": "5f7619f9",
   "metadata": {
    "execution": {
     "iopub.execute_input": "2022-03-20T17:01:52.730331Z",
     "iopub.status.busy": "2022-03-20T17:01:52.729689Z",
     "iopub.status.idle": "2022-03-20T17:01:58.599726Z",
     "shell.execute_reply": "2022-03-20T17:01:58.598982Z",
     "shell.execute_reply.started": "2022-03-20T16:25:39.937376Z"
    },
    "papermill": {
     "duration": 5.911156,
     "end_time": "2022-03-20T17:01:58.599920",
     "exception": false,
     "start_time": "2022-03-20T17:01:52.688764",
     "status": "completed"
    },
    "tags": []
   },
   "outputs": [],
   "source": [
    "import tensorflow as tf\n",
    "tf.random.set_seed(42)\n",
    "\n",
    "from tensorflow.keras.models import Sequential\n",
    "from tensorflow.keras.layers import Activation, Dense\n",
    "from tensorflow.keras.optimizers import SGD\n",
    "from tensorflow.keras.utils import to_categorical\n",
    "from tensorflow.keras.callbacks import ReduceLROnPlateau"
   ]
  },
  {
   "cell_type": "code",
   "execution_count": 22,
   "id": "e3cb330f",
   "metadata": {
    "execution": {
     "iopub.execute_input": "2022-03-20T17:01:58.693726Z",
     "iopub.status.busy": "2022-03-20T17:01:58.692461Z",
     "iopub.status.idle": "2022-03-20T17:01:58.695753Z",
     "shell.execute_reply": "2022-03-20T17:01:58.696277Z",
     "shell.execute_reply.started": "2022-03-20T16:25:46.884089Z"
    },
    "papermill": {
     "duration": 0.0485,
     "end_time": "2022-03-20T17:01:58.696487",
     "exception": false,
     "start_time": "2022-03-20T17:01:58.647987",
     "status": "completed"
    },
    "tags": []
   },
   "outputs": [],
   "source": [
    "# reshape y for model\n",
    "# y_nn = np.reshape(y.values, newshape=(-1, 1))\n",
    "y_nn = to_categorical(y, num_classes=2)\n",
    "# new split\n",
    "X_nn_train, X_nn_test, y_nn_train, y_nn_test = train_test_split(X, y_nn, test_size=0.3)"
   ]
  },
  {
   "cell_type": "code",
   "execution_count": 23,
   "id": "f68a1d3f",
   "metadata": {
    "execution": {
     "iopub.execute_input": "2022-03-20T17:01:58.771859Z",
     "iopub.status.busy": "2022-03-20T17:01:58.770864Z",
     "iopub.status.idle": "2022-03-20T17:01:58.905541Z",
     "shell.execute_reply": "2022-03-20T17:01:58.906434Z",
     "shell.execute_reply.started": "2022-03-20T16:25:46.893955Z"
    },
    "papermill": {
     "duration": 0.174025,
     "end_time": "2022-03-20T17:01:58.906672",
     "exception": false,
     "start_time": "2022-03-20T17:01:58.732647",
     "status": "completed"
    },
    "tags": []
   },
   "outputs": [
    {
     "name": "stderr",
     "output_type": "stream",
     "text": [
      "2022-03-20 17:01:58.810294: I tensorflow/core/common_runtime/process_util.cc:146] Creating new thread pool with default inter op setting: 2. Tune using inter_op_parallelism_threads for best performance.\n"
     ]
    }
   ],
   "source": [
    "# create sequential model\n",
    "model = Sequential()\n",
    "\n",
    "# input layer\n",
    "model.add(Dense(units=512, input_dim=X.shape[1]))\n",
    "model.add(Activation(\"relu\"))\n",
    "# hidden layer\n",
    "model.add(Dense(units=256))\n",
    "model.add(Activation(\"relu\"))\n",
    "# output layer\n",
    "model.add(Dense(units=y_nn.shape[1]))\n",
    "model.add(Activation(\"sigmoid\"))"
   ]
  },
  {
   "cell_type": "code",
   "execution_count": 24,
   "id": "f1ced1aa",
   "metadata": {
    "execution": {
     "iopub.execute_input": "2022-03-20T17:01:58.988093Z",
     "iopub.status.busy": "2022-03-20T17:01:58.987102Z",
     "iopub.status.idle": "2022-03-20T17:01:58.994832Z",
     "shell.execute_reply": "2022-03-20T17:01:58.994311Z",
     "shell.execute_reply.started": "2022-03-20T16:25:47.054166Z"
    },
    "papermill": {
     "duration": 0.052856,
     "end_time": "2022-03-20T17:01:58.995005",
     "exception": false,
     "start_time": "2022-03-20T17:01:58.942149",
     "status": "completed"
    },
    "tags": []
   },
   "outputs": [],
   "source": [
    "# add loss, optimizer and metric(s)\n",
    "model.compile(\n",
    "    loss = \"binary_crossentropy\",\n",
    "    optimizer = SGD(),\n",
    "    metrics = [\"accuracy\"],\n",
    ")\n",
    "\n",
    "reduce_lr = ReduceLROnPlateau(monitor='val_loss', factor=0.2,\n",
    "                              patience=5, min_lr=0.001)"
   ]
  },
  {
   "cell_type": "code",
   "execution_count": 25,
   "id": "47e2c2d9",
   "metadata": {
    "execution": {
     "iopub.execute_input": "2022-03-20T17:01:59.075737Z",
     "iopub.status.busy": "2022-03-20T17:01:59.074785Z",
     "iopub.status.idle": "2022-03-20T17:02:03.092501Z",
     "shell.execute_reply": "2022-03-20T17:02:03.091906Z",
     "shell.execute_reply.started": "2022-03-20T16:25:47.074039Z"
    },
    "papermill": {
     "duration": 4.060286,
     "end_time": "2022-03-20T17:02:03.092663",
     "exception": false,
     "start_time": "2022-03-20T17:01:59.032377",
     "status": "completed"
    },
    "tags": []
   },
   "outputs": [
    {
     "name": "stderr",
     "output_type": "stream",
     "text": [
      "2022-03-20 17:01:59.152019: I tensorflow/compiler/mlir/mlir_graph_optimization_pass.cc:185] None of the MLIR Optimization Passes are enabled (registered 2)\n"
     ]
    },
    {
     "name": "stdout",
     "output_type": "stream",
     "text": [
      "Epoch 1/30\n",
      "20/20 [==============================] - 1s 15ms/step - loss: nan - accuracy: 0.5955 - val_loss: nan - val_accuracy: 0.6231\n",
      "Epoch 2/30\n",
      "20/20 [==============================] - 0s 5ms/step - loss: nan - accuracy: 0.6132 - val_loss: nan - val_accuracy: 0.6231\n",
      "Epoch 3/30\n",
      "20/20 [==============================] - 0s 5ms/step - loss: nan - accuracy: 0.6132 - val_loss: nan - val_accuracy: 0.6231\n",
      "Epoch 4/30\n",
      "20/20 [==============================] - 0s 5ms/step - loss: nan - accuracy: 0.6132 - val_loss: nan - val_accuracy: 0.6231\n",
      "Epoch 5/30\n",
      "20/20 [==============================] - 0s 5ms/step - loss: nan - accuracy: 0.6132 - val_loss: nan - val_accuracy: 0.6231\n",
      "Epoch 6/30\n",
      "20/20 [==============================] - 0s 5ms/step - loss: nan - accuracy: 0.6132 - val_loss: nan - val_accuracy: 0.6231\n",
      "Epoch 7/30\n",
      "20/20 [==============================] - 0s 5ms/step - loss: nan - accuracy: 0.6132 - val_loss: nan - val_accuracy: 0.6231\n",
      "Epoch 8/30\n",
      "20/20 [==============================] - 0s 5ms/step - loss: nan - accuracy: 0.6132 - val_loss: nan - val_accuracy: 0.6231\n",
      "Epoch 9/30\n",
      "20/20 [==============================] - 0s 5ms/step - loss: nan - accuracy: 0.6132 - val_loss: nan - val_accuracy: 0.6231\n",
      "Epoch 10/30\n",
      "20/20 [==============================] - 0s 6ms/step - loss: nan - accuracy: 0.6132 - val_loss: nan - val_accuracy: 0.6231\n",
      "Epoch 11/30\n",
      "20/20 [==============================] - 0s 5ms/step - loss: nan - accuracy: 0.6132 - val_loss: nan - val_accuracy: 0.6231\n",
      "Epoch 12/30\n",
      "20/20 [==============================] - 0s 5ms/step - loss: nan - accuracy: 0.6132 - val_loss: nan - val_accuracy: 0.6231\n",
      "Epoch 13/30\n",
      "20/20 [==============================] - 0s 5ms/step - loss: nan - accuracy: 0.6132 - val_loss: nan - val_accuracy: 0.6231\n",
      "Epoch 14/30\n",
      "20/20 [==============================] - 0s 5ms/step - loss: nan - accuracy: 0.6132 - val_loss: nan - val_accuracy: 0.6231\n",
      "Epoch 15/30\n",
      "20/20 [==============================] - 0s 5ms/step - loss: nan - accuracy: 0.6132 - val_loss: nan - val_accuracy: 0.6231\n",
      "Epoch 16/30\n",
      "20/20 [==============================] - 0s 5ms/step - loss: nan - accuracy: 0.6132 - val_loss: nan - val_accuracy: 0.6231\n",
      "Epoch 17/30\n",
      "20/20 [==============================] - 0s 5ms/step - loss: nan - accuracy: 0.6132 - val_loss: nan - val_accuracy: 0.6231\n",
      "Epoch 18/30\n",
      "20/20 [==============================] - 0s 5ms/step - loss: nan - accuracy: 0.6132 - val_loss: nan - val_accuracy: 0.6231\n",
      "Epoch 19/30\n",
      "20/20 [==============================] - 0s 5ms/step - loss: nan - accuracy: 0.6132 - val_loss: nan - val_accuracy: 0.6231\n",
      "Epoch 20/30\n",
      "20/20 [==============================] - 0s 5ms/step - loss: nan - accuracy: 0.6132 - val_loss: nan - val_accuracy: 0.6231\n",
      "Epoch 21/30\n",
      "20/20 [==============================] - 0s 5ms/step - loss: nan - accuracy: 0.6132 - val_loss: nan - val_accuracy: 0.6231\n",
      "Epoch 22/30\n",
      "20/20 [==============================] - 0s 5ms/step - loss: nan - accuracy: 0.6132 - val_loss: nan - val_accuracy: 0.6231\n",
      "Epoch 23/30\n",
      "20/20 [==============================] - 0s 5ms/step - loss: nan - accuracy: 0.6132 - val_loss: nan - val_accuracy: 0.6231\n",
      "Epoch 24/30\n",
      "20/20 [==============================] - 0s 5ms/step - loss: nan - accuracy: 0.6132 - val_loss: nan - val_accuracy: 0.6231\n",
      "Epoch 25/30\n",
      "20/20 [==============================] - 0s 5ms/step - loss: nan - accuracy: 0.6132 - val_loss: nan - val_accuracy: 0.6231\n",
      "Epoch 26/30\n",
      "20/20 [==============================] - 0s 5ms/step - loss: nan - accuracy: 0.6132 - val_loss: nan - val_accuracy: 0.6231\n",
      "Epoch 27/30\n",
      "20/20 [==============================] - 0s 5ms/step - loss: nan - accuracy: 0.6132 - val_loss: nan - val_accuracy: 0.6231\n",
      "Epoch 28/30\n",
      "20/20 [==============================] - 0s 5ms/step - loss: nan - accuracy: 0.6132 - val_loss: nan - val_accuracy: 0.6231\n",
      "Epoch 29/30\n",
      "20/20 [==============================] - 0s 5ms/step - loss: nan - accuracy: 0.6132 - val_loss: nan - val_accuracy: 0.6231\n",
      "Epoch 30/30\n",
      "20/20 [==============================] - 0s 5ms/step - loss: nan - accuracy: 0.6132 - val_loss: nan - val_accuracy: 0.6231\n"
     ]
    },
    {
     "data": {
      "text/plain": [
       "<keras.callbacks.History at 0x7f7bdf4fff10>"
      ]
     },
     "execution_count": 25,
     "metadata": {},
     "output_type": "execute_result"
    }
   ],
   "source": [
    "# train + validate\n",
    "model.fit(\n",
    "    x = X_train,\n",
    "    y = y_nn_train,\n",
    "    epochs = 30, # num. of iterations\n",
    "    validation_data = (X_test, y_nn_test),\n",
    "    callbacks = [reduce_lr]\n",
    ")"
   ]
  },
  {
   "cell_type": "markdown",
   "id": "6763cb64",
   "metadata": {
    "papermill": {
     "duration": 0.05917,
     "end_time": "2022-03-20T17:02:03.210928",
     "exception": false,
     "start_time": "2022-03-20T17:02:03.151758",
     "status": "completed"
    },
    "tags": []
   },
   "source": [
    "## 5. Tune Best Model"
   ]
  },
  {
   "cell_type": "code",
   "execution_count": 26,
   "id": "734deec5",
   "metadata": {
    "execution": {
     "iopub.execute_input": "2022-03-20T17:02:03.333746Z",
     "iopub.status.busy": "2022-03-20T17:02:03.333155Z",
     "iopub.status.idle": "2022-03-20T17:02:03.335727Z",
     "shell.execute_reply": "2022-03-20T17:02:03.336282Z",
     "shell.execute_reply.started": "2022-03-20T16:25:51.827045Z"
    },
    "papermill": {
     "duration": 0.066667,
     "end_time": "2022-03-20T17:02:03.336469",
     "exception": false,
     "start_time": "2022-03-20T17:02:03.269802",
     "status": "completed"
    },
    "tags": []
   },
   "outputs": [
    {
     "data": {
      "text/plain": [
       "dict_keys(['bootstrap', 'ccp_alpha', 'class_weight', 'criterion', 'max_depth', 'max_features', 'max_leaf_nodes', 'max_samples', 'min_impurity_decrease', 'min_samples_leaf', 'min_samples_split', 'min_weight_fraction_leaf', 'n_estimators', 'n_jobs', 'oob_score', 'random_state', 'verbose', 'warm_start'])"
      ]
     },
     "execution_count": 26,
     "metadata": {},
     "output_type": "execute_result"
    }
   ],
   "source": [
    "clf = RandomForestClassifier(random_state=42)\n",
    "clf.get_params().keys()"
   ]
  },
  {
   "cell_type": "code",
   "execution_count": 27,
   "id": "806c074c",
   "metadata": {
    "execution": {
     "iopub.execute_input": "2022-03-20T17:02:03.457854Z",
     "iopub.status.busy": "2022-03-20T17:02:03.457219Z",
     "iopub.status.idle": "2022-03-20T17:02:15.895742Z",
     "shell.execute_reply": "2022-03-20T17:02:15.895129Z",
     "shell.execute_reply.started": "2022-03-20T16:25:51.835588Z"
    },
    "papermill": {
     "duration": 12.500761,
     "end_time": "2022-03-20T17:02:15.895884",
     "exception": false,
     "start_time": "2022-03-20T17:02:03.395123",
     "status": "completed"
    },
    "tags": []
   },
   "outputs": [
    {
     "data": {
      "text/html": [
       "<div>\n",
       "<style scoped>\n",
       "    .dataframe tbody tr th:only-of-type {\n",
       "        vertical-align: middle;\n",
       "    }\n",
       "\n",
       "    .dataframe tbody tr th {\n",
       "        vertical-align: top;\n",
       "    }\n",
       "\n",
       "    .dataframe thead th {\n",
       "        text-align: right;\n",
       "    }\n",
       "</style>\n",
       "<table border=\"1\" class=\"dataframe\">\n",
       "  <thead>\n",
       "    <tr style=\"text-align: right;\">\n",
       "      <th></th>\n",
       "      <th>mean_fit_time</th>\n",
       "      <th>params</th>\n",
       "      <th>mean_test_score</th>\n",
       "      <th>rank_test_score</th>\n",
       "    </tr>\n",
       "  </thead>\n",
       "  <tbody>\n",
       "    <tr>\n",
       "      <th>3</th>\n",
       "      <td>0.141935</td>\n",
       "      <td>{'min_samples_leaf': 3, 'n_estimators': 100}</td>\n",
       "      <td>0.812258</td>\n",
       "      <td>1</td>\n",
       "    </tr>\n",
       "    <tr>\n",
       "      <th>4</th>\n",
       "      <td>0.282455</td>\n",
       "      <td>{'min_samples_leaf': 3, 'n_estimators': 200}</td>\n",
       "      <td>0.810658</td>\n",
       "      <td>2</td>\n",
       "    </tr>\n",
       "    <tr>\n",
       "      <th>5</th>\n",
       "      <td>0.699632</td>\n",
       "      <td>{'min_samples_leaf': 3, 'n_estimators': 500}</td>\n",
       "      <td>0.809032</td>\n",
       "      <td>3</td>\n",
       "    </tr>\n",
       "    <tr>\n",
       "      <th>0</th>\n",
       "      <td>0.145240</td>\n",
       "      <td>{'min_samples_leaf': 2, 'n_estimators': 100}</td>\n",
       "      <td>0.805806</td>\n",
       "      <td>4</td>\n",
       "    </tr>\n",
       "    <tr>\n",
       "      <th>2</th>\n",
       "      <td>0.713247</td>\n",
       "      <td>{'min_samples_leaf': 2, 'n_estimators': 500}</td>\n",
       "      <td>0.804219</td>\n",
       "      <td>5</td>\n",
       "    </tr>\n",
       "  </tbody>\n",
       "</table>\n",
       "</div>"
      ],
      "text/plain": [
       "   mean_fit_time                                        params  \\\n",
       "3       0.141935  {'min_samples_leaf': 3, 'n_estimators': 100}   \n",
       "4       0.282455  {'min_samples_leaf': 3, 'n_estimators': 200}   \n",
       "5       0.699632  {'min_samples_leaf': 3, 'n_estimators': 500}   \n",
       "0       0.145240  {'min_samples_leaf': 2, 'n_estimators': 100}   \n",
       "2       0.713247  {'min_samples_leaf': 2, 'n_estimators': 500}   \n",
       "\n",
       "   mean_test_score  rank_test_score  \n",
       "3         0.812258                1  \n",
       "4         0.810658                2  \n",
       "5         0.809032                3  \n",
       "0         0.805806                4  \n",
       "2         0.804219                5  "
      ]
     },
     "execution_count": 27,
     "metadata": {},
     "output_type": "execute_result"
    }
   ],
   "source": [
    "parameters = {\n",
    "    'n_estimators': [100, 200, 500],\n",
    "    'min_samples_leaf': [2, 3],\n",
    "}\n",
    "\n",
    "cv = GridSearchCV(estimator=clf, param_grid=parameters, scoring='accuracy', cv=5)\n",
    "cv.fit(X_train, y_train)\n",
    "\n",
    "# show results of grid search\n",
    "cv_df = pd.DataFrame.from_dict(cv.cv_results_)\n",
    "cv_df[['mean_fit_time', 'params', 'mean_test_score', 'rank_test_score']].sort_values('rank_test_score').head()"
   ]
  },
  {
   "cell_type": "code",
   "execution_count": 28,
   "id": "6a2a6958",
   "metadata": {
    "execution": {
     "iopub.execute_input": "2022-03-20T17:02:16.024781Z",
     "iopub.status.busy": "2022-03-20T17:02:16.024106Z",
     "iopub.status.idle": "2022-03-20T17:02:16.043494Z",
     "shell.execute_reply": "2022-03-20T17:02:16.042950Z",
     "shell.execute_reply.started": "2022-03-20T16:26:08.397512Z"
    },
    "papermill": {
     "duration": 0.084701,
     "end_time": "2022-03-20T17:02:16.043652",
     "exception": false,
     "start_time": "2022-03-20T17:02:15.958951",
     "status": "completed"
    },
    "tags": []
   },
   "outputs": [
    {
     "data": {
      "text/plain": [
       "0.8432835820895522"
      ]
     },
     "execution_count": 28,
     "metadata": {},
     "output_type": "execute_result"
    }
   ],
   "source": [
    "# get score ('accuracy') on test data with best estimator\n",
    "cv.score(X_test, y_test)"
   ]
  },
  {
   "cell_type": "markdown",
   "id": "92dd7353",
   "metadata": {
    "papermill": {
     "duration": 0.059986,
     "end_time": "2022-03-20T17:02:16.164840",
     "exception": false,
     "start_time": "2022-03-20T17:02:16.104854",
     "status": "completed"
    },
    "tags": []
   },
   "source": [
    "## 6. Predict on Validation Data"
   ]
  },
  {
   "cell_type": "code",
   "execution_count": 29,
   "id": "c896323a",
   "metadata": {
    "execution": {
     "iopub.execute_input": "2022-03-20T17:02:16.294332Z",
     "iopub.status.busy": "2022-03-20T17:02:16.293609Z",
     "iopub.status.idle": "2022-03-20T17:02:16.296153Z",
     "shell.execute_reply": "2022-03-20T17:02:16.296606Z",
     "shell.execute_reply.started": "2022-03-20T16:40:47.561633Z"
    },
    "papermill": {
     "duration": 0.070117,
     "end_time": "2022-03-20T17:02:16.296775",
     "exception": false,
     "start_time": "2022-03-20T17:02:16.226658",
     "status": "completed"
    },
    "tags": []
   },
   "outputs": [],
   "source": [
    "X_val = clean_val_df.drop(['PassengerId'], axis=1)"
   ]
  },
  {
   "cell_type": "code",
   "execution_count": 30,
   "id": "36cc6790",
   "metadata": {
    "execution": {
     "iopub.execute_input": "2022-03-20T17:02:16.421830Z",
     "iopub.status.busy": "2022-03-20T17:02:16.421189Z",
     "iopub.status.idle": "2022-03-20T17:02:16.428783Z",
     "shell.execute_reply": "2022-03-20T17:02:16.429244Z",
     "shell.execute_reply.started": "2022-03-20T16:40:49.019968Z"
    },
    "papermill": {
     "duration": 0.073183,
     "end_time": "2022-03-20T17:02:16.429416",
     "exception": false,
     "start_time": "2022-03-20T17:02:16.356233",
     "status": "completed"
    },
    "tags": []
   },
   "outputs": [
    {
     "data": {
      "text/plain": [
       "Pclass         0\n",
       "Age            0\n",
       "SibSp          0\n",
       "Parch          0\n",
       "Fare           0\n",
       "Male           0\n",
       "Ticket_num     0\n",
       "Cabin_C        0\n",
       "Cabin_digit    0\n",
       "Emb_C          0\n",
       "Emb_Q          0\n",
       "Emb_S          0\n",
       "dtype: int64"
      ]
     },
     "execution_count": 30,
     "metadata": {},
     "output_type": "execute_result"
    }
   ],
   "source": [
    "# clean NaN values\n",
    "X_val.Fare.fillna(0, inplace=True)\n",
    "X_val.isna().sum()"
   ]
  },
  {
   "cell_type": "code",
   "execution_count": 31,
   "id": "8f68029e",
   "metadata": {
    "execution": {
     "iopub.execute_input": "2022-03-20T17:02:16.556330Z",
     "iopub.status.busy": "2022-03-20T17:02:16.555708Z",
     "iopub.status.idle": "2022-03-20T17:02:16.562997Z",
     "shell.execute_reply": "2022-03-20T17:02:16.563828Z",
     "shell.execute_reply.started": "2022-03-20T16:41:09.280558Z"
    },
    "papermill": {
     "duration": 0.072635,
     "end_time": "2022-03-20T17:02:16.564130",
     "exception": false,
     "start_time": "2022-03-20T17:02:16.491495",
     "status": "completed"
    },
    "tags": []
   },
   "outputs": [
    {
     "name": "stdout",
     "output_type": "stream",
     "text": [
      "X shape before feature selection: (418, 12)\n",
      "X shape after feature selection: (418, 8)\n"
     ]
    }
   ],
   "source": [
    "print(f\"X shape before feature selection: {X_val.shape}\")\n",
    "\n",
    "X_val = sel.transform(X_val)\n",
    "\n",
    "print(f\"X shape after feature selection: {X_val.shape}\")"
   ]
  },
  {
   "cell_type": "code",
   "execution_count": 32,
   "id": "9c4bf755",
   "metadata": {
    "execution": {
     "iopub.execute_input": "2022-03-20T17:02:16.692691Z",
     "iopub.status.busy": "2022-03-20T17:02:16.691962Z",
     "iopub.status.idle": "2022-03-20T17:02:16.711738Z",
     "shell.execute_reply": "2022-03-20T17:02:16.711070Z",
     "shell.execute_reply.started": "2022-03-20T16:42:39.558244Z"
    },
    "papermill": {
     "duration": 0.086289,
     "end_time": "2022-03-20T17:02:16.711886",
     "exception": false,
     "start_time": "2022-03-20T17:02:16.625597",
     "status": "completed"
    },
    "tags": []
   },
   "outputs": [],
   "source": [
    "# predict results\n",
    "y_result = cv.predict(X_val)"
   ]
  },
  {
   "cell_type": "code",
   "execution_count": 33,
   "id": "7c5cdabb",
   "metadata": {
    "execution": {
     "iopub.execute_input": "2022-03-20T17:02:16.843752Z",
     "iopub.status.busy": "2022-03-20T17:02:16.843040Z",
     "iopub.status.idle": "2022-03-20T17:02:16.846961Z",
     "shell.execute_reply": "2022-03-20T17:02:16.847521Z",
     "shell.execute_reply.started": "2022-03-20T16:57:01.642809Z"
    },
    "papermill": {
     "duration": 0.074889,
     "end_time": "2022-03-20T17:02:16.847690",
     "exception": false,
     "start_time": "2022-03-20T17:02:16.772801",
     "status": "completed"
    },
    "tags": []
   },
   "outputs": [
    {
     "data": {
      "text/html": [
       "<div>\n",
       "<style scoped>\n",
       "    .dataframe tbody tr th:only-of-type {\n",
       "        vertical-align: middle;\n",
       "    }\n",
       "\n",
       "    .dataframe tbody tr th {\n",
       "        vertical-align: top;\n",
       "    }\n",
       "\n",
       "    .dataframe thead th {\n",
       "        text-align: right;\n",
       "    }\n",
       "</style>\n",
       "<table border=\"1\" class=\"dataframe\">\n",
       "  <thead>\n",
       "    <tr style=\"text-align: right;\">\n",
       "      <th></th>\n",
       "      <th>PassengerId</th>\n",
       "      <th>Survived</th>\n",
       "    </tr>\n",
       "  </thead>\n",
       "  <tbody>\n",
       "    <tr>\n",
       "      <th>0</th>\n",
       "      <td>892</td>\n",
       "      <td>0</td>\n",
       "    </tr>\n",
       "    <tr>\n",
       "      <th>1</th>\n",
       "      <td>893</td>\n",
       "      <td>0</td>\n",
       "    </tr>\n",
       "    <tr>\n",
       "      <th>2</th>\n",
       "      <td>894</td>\n",
       "      <td>0</td>\n",
       "    </tr>\n",
       "    <tr>\n",
       "      <th>3</th>\n",
       "      <td>895</td>\n",
       "      <td>0</td>\n",
       "    </tr>\n",
       "    <tr>\n",
       "      <th>4</th>\n",
       "      <td>896</td>\n",
       "      <td>1</td>\n",
       "    </tr>\n",
       "  </tbody>\n",
       "</table>\n",
       "</div>"
      ],
      "text/plain": [
       "   PassengerId  Survived\n",
       "0          892         0\n",
       "1          893         0\n",
       "2          894         0\n",
       "3          895         0\n",
       "4          896         1"
      ]
     },
     "execution_count": 33,
     "metadata": {},
     "output_type": "execute_result"
    }
   ],
   "source": [
    "# concatenate y_results with passenger ids\n",
    "id_series = pd.Series(validation_df.PassengerId)\n",
    "y_series = pd.Series(y_result, name=\"Survived\" )\n",
    "result = pd.concat([id_series, y_series], axis=1)\n",
    "result.head()"
   ]
  },
  {
   "cell_type": "code",
   "execution_count": 34,
   "id": "c9800c32",
   "metadata": {
    "execution": {
     "iopub.execute_input": "2022-03-20T17:02:16.975455Z",
     "iopub.status.busy": "2022-03-20T17:02:16.974768Z",
     "iopub.status.idle": "2022-03-20T17:02:16.980818Z",
     "shell.execute_reply": "2022-03-20T17:02:16.981324Z",
     "shell.execute_reply.started": "2022-03-20T17:00:38.981348Z"
    },
    "papermill": {
     "duration": 0.072566,
     "end_time": "2022-03-20T17:02:16.981527",
     "exception": false,
     "start_time": "2022-03-20T17:02:16.908961",
     "status": "completed"
    },
    "tags": []
   },
   "outputs": [],
   "source": [
    "# write to csv file\n",
    "result.to_csv('titanic_prediction.csv', index=False)"
   ]
  }
 ],
 "metadata": {
  "kernelspec": {
   "display_name": "Python 3",
   "language": "python",
   "name": "python3"
  },
  "language_info": {
   "codemirror_mode": {
    "name": "ipython",
    "version": 3
   },
   "file_extension": ".py",
   "mimetype": "text/x-python",
   "name": "python",
   "nbconvert_exporter": "python",
   "pygments_lexer": "ipython3",
   "version": "3.7.12"
  },
  "papermill": {
   "default_parameters": {},
   "duration": 41.67327,
   "end_time": "2022-03-20T17:02:20.213245",
   "environment_variables": {},
   "exception": null,
   "input_path": "__notebook__.ipynb",
   "output_path": "__notebook__.ipynb",
   "parameters": {},
   "start_time": "2022-03-20T17:01:38.539975",
   "version": "2.3.3"
  }
 },
 "nbformat": 4,
 "nbformat_minor": 5
}
